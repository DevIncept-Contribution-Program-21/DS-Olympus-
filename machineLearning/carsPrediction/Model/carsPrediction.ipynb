{
 "cells": [
  {
   "cell_type": "code",
   "execution_count": 107,
   "source": [
    "import pandas as pd\r\n",
    "import matplotlib.pyplot as plt\r\n",
    "import seaborn as sns\r\n",
    "from sklearn.model_selection import train_test_split\r\n",
    "from sklearn.linear_model import LogisticRegression\r\n",
    "from sklearn.tree import DecisionTreeClassifier\r\n",
    "from sklearn.preprocessing import MinMaxScaler\r\n",
    "from sklearn.neighbors import KNeighborsClassifier\r\n",
    "from sklearn.ensemble import RandomForestClassifier\r\n",
    "from sklearn.metrics import classification_report"
   ],
   "outputs": [],
   "metadata": {}
  },
  {
   "cell_type": "code",
   "execution_count": 2,
   "source": [
    "data = pd.read_csv(\"E:\\github\\DS-Olympus-\\machineLearning\\carsPrediction\\Dataset\\cars.csv\")"
   ],
   "outputs": [],
   "metadata": {}
  },
  {
   "cell_type": "code",
   "execution_count": 3,
   "source": [
    "data.head()"
   ],
   "outputs": [
    {
     "output_type": "execute_result",
     "data": {
      "text/plain": [
       "    mpg   cylinders  cubicinches   hp  weightlbs   time-to-60   year     brand\n",
       "0  14.0           8          350  165       4209           12   1972       US.\n",
       "1  31.9           4           89   71       1925           14   1980   Europe.\n",
       "2  17.0           8          302  140       3449           11   1971       US.\n",
       "3  15.0           8          400  150       3761           10   1971       US.\n",
       "4  30.5           4           98   63       2051           17   1978       US."
      ],
      "text/html": [
       "<div>\n",
       "<style scoped>\n",
       "    .dataframe tbody tr th:only-of-type {\n",
       "        vertical-align: middle;\n",
       "    }\n",
       "\n",
       "    .dataframe tbody tr th {\n",
       "        vertical-align: top;\n",
       "    }\n",
       "\n",
       "    .dataframe thead th {\n",
       "        text-align: right;\n",
       "    }\n",
       "</style>\n",
       "<table border=\"1\" class=\"dataframe\">\n",
       "  <thead>\n",
       "    <tr style=\"text-align: right;\">\n",
       "      <th></th>\n",
       "      <th>mpg</th>\n",
       "      <th>cylinders</th>\n",
       "      <th>cubicinches</th>\n",
       "      <th>hp</th>\n",
       "      <th>weightlbs</th>\n",
       "      <th>time-to-60</th>\n",
       "      <th>year</th>\n",
       "      <th>brand</th>\n",
       "    </tr>\n",
       "  </thead>\n",
       "  <tbody>\n",
       "    <tr>\n",
       "      <th>0</th>\n",
       "      <td>14.0</td>\n",
       "      <td>8</td>\n",
       "      <td>350</td>\n",
       "      <td>165</td>\n",
       "      <td>4209</td>\n",
       "      <td>12</td>\n",
       "      <td>1972</td>\n",
       "      <td>US.</td>\n",
       "    </tr>\n",
       "    <tr>\n",
       "      <th>1</th>\n",
       "      <td>31.9</td>\n",
       "      <td>4</td>\n",
       "      <td>89</td>\n",
       "      <td>71</td>\n",
       "      <td>1925</td>\n",
       "      <td>14</td>\n",
       "      <td>1980</td>\n",
       "      <td>Europe.</td>\n",
       "    </tr>\n",
       "    <tr>\n",
       "      <th>2</th>\n",
       "      <td>17.0</td>\n",
       "      <td>8</td>\n",
       "      <td>302</td>\n",
       "      <td>140</td>\n",
       "      <td>3449</td>\n",
       "      <td>11</td>\n",
       "      <td>1971</td>\n",
       "      <td>US.</td>\n",
       "    </tr>\n",
       "    <tr>\n",
       "      <th>3</th>\n",
       "      <td>15.0</td>\n",
       "      <td>8</td>\n",
       "      <td>400</td>\n",
       "      <td>150</td>\n",
       "      <td>3761</td>\n",
       "      <td>10</td>\n",
       "      <td>1971</td>\n",
       "      <td>US.</td>\n",
       "    </tr>\n",
       "    <tr>\n",
       "      <th>4</th>\n",
       "      <td>30.5</td>\n",
       "      <td>4</td>\n",
       "      <td>98</td>\n",
       "      <td>63</td>\n",
       "      <td>2051</td>\n",
       "      <td>17</td>\n",
       "      <td>1978</td>\n",
       "      <td>US.</td>\n",
       "    </tr>\n",
       "  </tbody>\n",
       "</table>\n",
       "</div>"
      ]
     },
     "metadata": {},
     "execution_count": 3
    }
   ],
   "metadata": {}
  },
  {
   "cell_type": "code",
   "execution_count": 4,
   "source": [
    "data.shape"
   ],
   "outputs": [
    {
     "output_type": "execute_result",
     "data": {
      "text/plain": [
       "(261, 8)"
      ]
     },
     "metadata": {},
     "execution_count": 4
    }
   ],
   "metadata": {}
  },
  {
   "cell_type": "code",
   "execution_count": 5,
   "source": [
    "data.columns"
   ],
   "outputs": [
    {
     "output_type": "execute_result",
     "data": {
      "text/plain": [
       "Index(['mpg', ' cylinders', ' cubicinches', ' hp', ' weightlbs', ' time-to-60',\n",
       "       ' year', ' brand'],\n",
       "      dtype='object')"
      ]
     },
     "metadata": {},
     "execution_count": 5
    }
   ],
   "metadata": {}
  },
  {
   "cell_type": "code",
   "execution_count": 6,
   "source": [
    "# are there any null values??\r\n",
    "data.isnull().sum()"
   ],
   "outputs": [
    {
     "output_type": "execute_result",
     "data": {
      "text/plain": [
       "mpg             0\n",
       " cylinders      0\n",
       " cubicinches    0\n",
       " hp             0\n",
       " weightlbs      0\n",
       " time-to-60     0\n",
       " year           0\n",
       " brand          0\n",
       "dtype: int64"
      ]
     },
     "metadata": {},
     "execution_count": 6
    }
   ],
   "metadata": {}
  },
  {
   "cell_type": "code",
   "execution_count": 7,
   "source": [
    "data.info()"
   ],
   "outputs": [
    {
     "output_type": "stream",
     "name": "stdout",
     "text": [
      "<class 'pandas.core.frame.DataFrame'>\n",
      "RangeIndex: 261 entries, 0 to 260\n",
      "Data columns (total 8 columns):\n",
      " #   Column        Non-Null Count  Dtype  \n",
      "---  ------        --------------  -----  \n",
      " 0   mpg           261 non-null    float64\n",
      " 1    cylinders    261 non-null    int64  \n",
      " 2    cubicinches  261 non-null    object \n",
      " 3    hp           261 non-null    int64  \n",
      " 4    weightlbs    261 non-null    object \n",
      " 5    time-to-60   261 non-null    int64  \n",
      " 6    year         261 non-null    int64  \n",
      " 7    brand        261 non-null    object \n",
      "dtypes: float64(1), int64(4), object(3)\n",
      "memory usage: 16.4+ KB\n"
     ]
    }
   ],
   "metadata": {}
  },
  {
   "cell_type": "code",
   "execution_count": 8,
   "source": [
    "# convert int to float\r\n",
    "data[\" cylinders\"] = data[\" cylinders\"].astype(\"float64\")\r\n",
    "data[\" hp\"] = data[\" hp\"].astype(\"float64\")\r\n",
    "data[\" time-to-60\"] = data[\" time-to-60\"].astype(\"float64\")\r\n",
    "data.info()"
   ],
   "outputs": [
    {
     "output_type": "stream",
     "name": "stdout",
     "text": [
      "<class 'pandas.core.frame.DataFrame'>\n",
      "RangeIndex: 261 entries, 0 to 260\n",
      "Data columns (total 8 columns):\n",
      " #   Column        Non-Null Count  Dtype  \n",
      "---  ------        --------------  -----  \n",
      " 0   mpg           261 non-null    float64\n",
      " 1    cylinders    261 non-null    float64\n",
      " 2    cubicinches  261 non-null    object \n",
      " 3    hp           261 non-null    float64\n",
      " 4    weightlbs    261 non-null    object \n",
      " 5    time-to-60   261 non-null    float64\n",
      " 6    year         261 non-null    int64  \n",
      " 7    brand        261 non-null    object \n",
      "dtypes: float64(4), int64(1), object(3)\n",
      "memory usage: 16.4+ KB\n"
     ]
    }
   ],
   "metadata": {}
  },
  {
   "cell_type": "code",
   "execution_count": 9,
   "source": [
    "# understanding the correration between different features\r\n",
    "corr_data = data.corr()\r\n",
    "sns.heatmap(data = corr_data , annot = True)"
   ],
   "outputs": [
    {
     "output_type": "execute_result",
     "data": {
      "text/plain": [
       "<AxesSubplot:>"
      ]
     },
     "metadata": {},
     "execution_count": 9
    },
    {
     "output_type": "display_data",
     "data": {
      "text/plain": [
       "<Figure size 432x288 with 2 Axes>"
      ],
      "image/png": "[encoded data removed]"
     },
     "metadata": {
      "needs_background": "light"
     }
    }
   ],
   "metadata": {}
  },
  {
   "cell_type": "code",
   "execution_count": 28,
   "source": [
    "# features & target\r\n",
    "features = data[[\"mpg\",\" hp\",\" time-to-60\",\" cylinders\"]]\r\n",
    "target = data[\" brand\"]\r\n",
    "print('------------------------------------- FEATURES ------------------------------------')\r\n",
    "print(features)\r\n",
    "print(\" \")\r\n",
    "print('------------ TARGET -------------')\r\n",
    "print(target)"
   ],
   "outputs": [
    {
     "output_type": "stream",
     "name": "stdout",
     "text": [
      "------------------------------------- FEATURES ------------------------------------\n",
      "      mpg     hp   time-to-60   cylinders\n",
      "0    14.0  165.0         12.0         8.0\n",
      "1    31.9   71.0         14.0         4.0\n",
      "2    17.0  140.0         11.0         8.0\n",
      "3    15.0  150.0         10.0         8.0\n",
      "4    30.5   63.0         17.0         4.0\n",
      "..    ...    ...          ...         ...\n",
      "256  17.0  130.0         15.0         8.0\n",
      "257  36.1   60.0         16.0         4.0\n",
      "258  22.0  112.0         15.0         6.0\n",
      "259  18.0  100.0         16.0         6.0\n",
      "260  22.0  105.0         15.0         6.0\n",
      "\n",
      "[261 rows x 4 columns]\n",
      " \n",
      "------------ TARGET -------------\n",
      "0           US.\n",
      "1       Europe.\n",
      "2           US.\n",
      "3           US.\n",
      "4           US.\n",
      "         ...   \n",
      "256         US.\n",
      "257      Japan.\n",
      "258         US.\n",
      "259         US.\n",
      "260         US.\n",
      "Name:  brand, Length: 261, dtype: object\n"
     ]
    }
   ],
   "metadata": {}
  },
  {
   "cell_type": "code",
   "execution_count": 29,
   "source": [
    "# feature scaling\r\n",
    "scaler = MinMaxScaler()\r\n",
    "new_features = scaler.fit_transform(features)\r\n",
    "print('---------------------------- NEW FEATURES ---------------------------')\r\n",
    "print(new_features)"
   ],
   "outputs": [
    {
     "output_type": "stream",
     "name": "stdout",
     "text": [
      "---------------------------- NEW FEATURES ---------------------------\n",
      "[[0.10928962 0.64673913 0.23529412 1.        ]\n",
      " [0.59836066 0.13586957 0.35294118 0.2       ]\n",
      " [0.19125683 0.51086957 0.17647059 1.        ]\n",
      " ...\n",
      " [0.32786885 0.35869565 0.41176471 0.6       ]\n",
      " [0.21857923 0.29347826 0.47058824 0.6       ]\n",
      " [0.32786885 0.32065217 0.41176471 0.6       ]]\n"
     ]
    }
   ],
   "metadata": {}
  },
  {
   "cell_type": "code",
   "execution_count": 99,
   "source": [
    "x_train, x_test, y_train, y_test = train_test_split(new_features,target,random_state=99)"
   ],
   "outputs": [],
   "metadata": {}
  },
  {
   "cell_type": "code",
   "execution_count": 100,
   "source": [
    "m1 = LogisticRegression()\r\n",
    "m1.fit(x_train,y_train)\r\n",
    "\r\n",
    "y_pred = m1.predict(x_test)\r\n",
    "cr = classification_report(y_test,y_pred)\r\n",
    "print('-----------------------CLASSIFICATION REPORT----------------------')\r\n",
    "print(cr)"
   ],
   "outputs": [
    {
     "output_type": "stream",
     "name": "stdout",
     "text": [
      "-----------------------CLASSIFICATION REPORT----------------------\n",
      "              precision    recall  f1-score   support\n",
      "\n",
      "     Europe.       0.00      0.00      0.00        11\n",
      "      Japan.       0.80      0.44      0.57        18\n",
      "         US.       0.69      1.00      0.81        37\n",
      "\n",
      "    accuracy                           0.68        66\n",
      "   macro avg       0.50      0.48      0.46        66\n",
      "weighted avg       0.60      0.68      0.61        66\n",
      "\n"
     ]
    }
   ],
   "metadata": {}
  },
  {
   "cell_type": "code",
   "execution_count": 101,
   "source": [
    "m2 = DecisionTreeClassifier()\r\n",
    "m2.fit(x_train,y_train)\r\n",
    "\r\n",
    "y_pred = m2.predict(x_test)\r\n",
    "cr = classification_report(y_test,y_pred)\r\n",
    "print('-----------------------CLASSIFICATION REPORT----------------------')\r\n",
    "print(cr)"
   ],
   "outputs": [
    {
     "output_type": "stream",
     "name": "stdout",
     "text": [
      "-----------------------CLASSIFICATION REPORT----------------------\n",
      "              precision    recall  f1-score   support\n",
      "\n",
      "     Europe.       0.57      0.73      0.64        11\n",
      "      Japan.       0.78      0.39      0.52        18\n",
      "         US.       0.79      0.92      0.85        37\n",
      "\n",
      "    accuracy                           0.74        66\n",
      "   macro avg       0.71      0.68      0.67        66\n",
      "weighted avg       0.75      0.74      0.72        66\n",
      "\n"
     ]
    }
   ],
   "metadata": {}
  },
  {
   "cell_type": "code",
   "execution_count": 102,
   "source": [
    "m3 = KNeighborsClassifier(n_neighbors=5)\r\n",
    "m3.fit(x_train,y_train)\r\n",
    "\r\n",
    "# prediction\r\n",
    "y_pred = m3.predict(x_test)\r\n",
    "cr = classification_report(y_test,y_pred)\r\n",
    "print('-----------------------CLASSIFICATION REPORT----------------------')\r\n",
    "print(cr)"
   ],
   "outputs": [
    {
     "output_type": "stream",
     "name": "stdout",
     "text": [
      "-----------------------CLASSIFICATION REPORT----------------------\n",
      "              precision    recall  f1-score   support\n",
      "\n",
      "     Europe.       0.60      0.82      0.69        11\n",
      "      Japan.       0.90      0.50      0.64        18\n",
      "         US.       0.83      0.92      0.87        37\n",
      "\n",
      "    accuracy                           0.79        66\n",
      "   macro avg       0.78      0.75      0.74        66\n",
      "weighted avg       0.81      0.79      0.78        66\n",
      "\n"
     ]
    }
   ],
   "metadata": {}
  },
  {
   "cell_type": "code",
   "execution_count": 108,
   "source": [
    "m4 = RandomForestClassifier(n_estimators=100)\r\n",
    "abc = m4.fit(x_train,y_train)\r\n",
    "\r\n",
    "# prediction\r\n",
    "y_pred = m4.predict(x_test)\r\n",
    "cr = classification_report(y_test,y_pred)\r\n",
    "print('-----------------------CLASSIFICATION REPORT----------------------')\r\n",
    "print(cr)"
   ],
   "outputs": [
    {
     "output_type": "stream",
     "name": "stdout",
     "text": [
      "-----------------------CLASSIFICATION REPORT----------------------\n",
      "              precision    recall  f1-score   support\n",
      "\n",
      "     Europe.       0.67      0.73      0.70        11\n",
      "      Japan.       0.91      0.56      0.69        18\n",
      "         US.       0.81      0.95      0.88        37\n",
      "\n",
      "    accuracy                           0.80        66\n",
      "   macro avg       0.80      0.74      0.75        66\n",
      "weighted avg       0.82      0.80      0.79        66\n",
      "\n"
     ]
    }
   ],
   "metadata": {}
  }
 ],
 "metadata": {
  "orig_nbformat": 4,
  "language_info": {
   "name": "python",
   "version": "3.6.4",
   "mimetype": "text/x-python",
   "codemirror_mode": {
    "name": "ipython",
    "version": 3
   },
   "pygments_lexer": "ipython3",
   "nbconvert_exporter": "python",
   "file_extension": ".py"
  },
  "kernelspec": {
   "name": "python3",
   "display_name": "Python 3.6.4 64-bit"
  },
  "interpreter": {
   "hash": "f2db1a205d05422567bfea71378eb1163d4d5d7418f0062693a7c6bfcbaf4348"
  }
 },
 "nbformat": 4,
 "nbformat_minor": 2
}